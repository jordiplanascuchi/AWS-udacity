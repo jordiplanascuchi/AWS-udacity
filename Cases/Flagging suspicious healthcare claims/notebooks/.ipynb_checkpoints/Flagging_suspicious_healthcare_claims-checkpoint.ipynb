{
 "cells": [
  {
   "cell_type": "markdown",
   "id": "f3228881",
   "metadata": {},
   "source": [
    "# Flagging suspicious healthcare claims with Amazon SageMaker\n",
    "by Vikrant Kahlir, Elena Ehrlich, and Hanif Mahboobi | on 10 FEB 2020 | in Amazon SageMaker, Artificial Intelligence\n",
    "\n",
    "This is a reproduced notebook from someone else."
   ]
  },
  {
   "cell_type": "markdown",
   "id": "5c7a9425",
   "metadata": {},
   "source": [
    "## Introduction\n",
    "\n",
    "The National Health Care Anti-Fraud Association (NHCAA) estimates that healthcare fraud costs the nation approximately 68 billion \\\\$ annually, 3 of the nation’s 2.26 trillion \\\\$ in healthcare spending. This is a conservative estimate; other estimates range as high as 10% of annual healthcare expenditure, or 230 billion \\\\$.\n",
    "\n",
    "Healthcare fraud inevitably results in higher premiums and out-of-pocket expenses for consumers, as well as reduced benefits or coverage.\n",
    "\n",
    "Labeling a claim as fraudulent could require a complex and detailed investigation. This post demonstrates how to train an Amazon SageMaker model to flag anomalous post-payment Medicare inpatient claims and target them for further investigation on suspicion of fraud. The solution doesn’t need labeled data; it uses unsupervised machine learning (ML) to create a model to flag suspicious claims.\n",
    "\n",
    "Anomaly detection is a difficult problem due to the following challenges:\n",
    "\n",
    "* The difference between data normality and abnormality is often not clear. Anomaly detection methods could be application-specific. For example, in clinical data, a small deviation could be an outlier, but in a marketing application, you need a significant deviation to justify an outlier.\n",
    "* Noise in data may appear as deviations in attribute values or missing values. Noise may hide an outlier or flag deviation as an outlier.\n",
    "* Providing clear justification for an outlier may be difficult.\\\n",
    "This solution uses Amazon SageMaker, which provides developer and data scientists with the ability to build, train, and deploy ML models. Amazon SageMaker is a fully managed service that covers the entire ML workflow to label and prepare your data, choose an algorithm, train the model, tune and optimize it for deployment, make predictions, and take action.\n",
    "\n",
    "The end-to-end implementation of this solution is available as an Amazon SageMaker Jupyter Notebook. For more information, see the GitHub repository.\n",
    "\n",
    "## Solution overview\n",
    "\n",
    "In this example we’re going to use Amazon SageMaker to:\\\n",
    "1. download the dataset and visualize it using a Jupyter notebook; \n",
    "2. perform data cleaning locally within the notebook and look at a sample of the data;\n",
    "3. do feature engineering on text columns using the word2vec;\n",
    "4. fit a principal components analysis (PCA) model to the preprocessed dataset; \n",
    "5. score the entire dataset;\n",
    "6. apply a threshold to the scores to identify any suspicious or anomalous claims."
   ]
  },
  {
   "cell_type": "code",
   "execution_count": null,
   "id": "c8a148a0",
   "metadata": {},
   "outputs": [],
   "source": []
  }
 ],
 "metadata": {
  "kernelspec": {
   "display_name": "Python 3",
   "language": "python",
   "name": "python3"
  },
  "language_info": {
   "codemirror_mode": {
    "name": "ipython",
    "version": 3
   },
   "file_extension": ".py",
   "mimetype": "text/x-python",
   "name": "python",
   "nbconvert_exporter": "python",
   "pygments_lexer": "ipython3",
   "version": "3.8.8"
  }
 },
 "nbformat": 4,
 "nbformat_minor": 5
}
